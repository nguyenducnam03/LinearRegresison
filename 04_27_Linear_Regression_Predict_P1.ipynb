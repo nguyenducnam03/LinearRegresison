{
  "nbformat": 4,
  "nbformat_minor": 0,
  "metadata": {
    "colab": {
      "name": "04_27_Linear Regression",
      "provenance": [],
      "authorship_tag": "ABX9TyMMFI2XeHM2SdrF+lPMZPB3",
      "include_colab_link": true
    },
    "kernelspec": {
      "name": "python3",
      "display_name": "Python 3"
    },
    "language_info": {
      "name": "python"
    }
  },
  "cells": [
    {
      "cell_type": "markdown",
      "metadata": {
        "id": "view-in-github",
        "colab_type": "text"
      },
      "source": [
        "<a href=\"https://colab.research.google.com/github/nguyenducnam03/LinearRegresison_Sklearn/blob/main/04_27_Linear_Regression_Predict_P1.ipynb\" target=\"_parent\"><img src=\"https://colab.research.google.com/assets/colab-badge.svg\" alt=\"Open In Colab\"/></a>"
      ]
    },
    {
      "cell_type": "code",
      "execution_count": 16,
      "metadata": {
        "colab": {
          "base_uri": "https://localhost:8080/"
        },
        "id": "JikjZiiB-NVi",
        "outputId": "16371862-f234-4dbc-8d1b-5ac6e5e56c1a"
      },
      "outputs": [
        {
          "output_type": "stream",
          "name": "stdout",
          "text": [
            "[4.38190955]\n",
            "14.482412060301506\n"
          ]
        }
      ],
      "source": [
        "#import library\n",
        "import numpy as np\n",
        "import matplotlib.pyplot as plt\n",
        "from sklearn.linear_model import LinearRegression\n",
        "X = [2,5,6,7,2,3,3,4,5,6,7,8,9,2,3,4,5,1]\n",
        "y = [22,33,46,7,12,3,73,54,5,26,17,78,69,32,3,24,95,21]\n",
        "X = np.array([X]).T\n",
        "\n",
        "#We need correct the form of model, X 2 dimensional in column (using.T), y is 1 dimensional only\n",
        "reg = LinearRegression().fit(X, y)\n",
        "print(reg.coef_)\n",
        "print(reg.intercept_)\n"
      ]
    },
    {
      "cell_type": "code",
      "source": [
        "# Plotting point using scatter method\n",
        "plt.scatter(X,y)\n",
        "# plt.show()\n",
        "\n",
        "#plot line using coef_ and intercept_\n",
        "X_draw = np.linspace(0,10,1000)\n",
        "y_draw = reg.coef_[0]*X_draw + reg.intercept_\n",
        "plt.scatter(X_draw,y_draw,color = 'red',linewidths = 0.5,)\n",
        "plt.show()"
      ],
      "metadata": {
        "colab": {
          "base_uri": "https://localhost:8080/",
          "height": 265
        },
        "id": "UgVOJRbDAy7f",
        "outputId": "a0f85c29-062a-4548-d93c-a9320f0fe6e2"
      },
      "execution_count": 23,
      "outputs": [
        {
          "output_type": "display_data",
          "data": {
            "text/plain": [
              "<Figure size 432x288 with 1 Axes>"
            ],
            "image/png": "[encoded data removed]"
          },
          "metadata": {
            "needs_background": "light"
          }
        }
      ]
    },
    {
      "cell_type": "code",
      "source": [
        "#function predict when you only have \n",
        "def predict_1dim(a): #the value of x only have 1 dimensional\n",
        "  #a,b the value to predict of x,y (mention that a is [] contain 1dimensional in this case)\n",
        "  return reg.coef_*a[0]+reg.intercept_\n",
        "\n",
        "print(predict_1dim([4]))\n",
        "#mention that with more than 1 dimensional in X value, we can't using plt.scatter here\n",
        "#I think it is a 3D picture!!"
      ],
      "metadata": {
        "colab": {
          "base_uri": "https://localhost:8080/"
        },
        "id": "7JwjoSVUBa6o",
        "outputId": "269b2642-0781-4081-cc1b-300eb9253de7"
      },
      "execution_count": 24,
      "outputs": [
        {
          "output_type": "stream",
          "name": "stdout",
          "text": [
            "[32.01005025]\n"
          ]
        }
      ]
    },
    {
      "cell_type": "code",
      "source": [
        "#Now, let take a look at more dimensional\n",
        "from sklearn import datasets\n",
        "diabetes_X, diabetes_y = datasets.load_diabetes(return_X_y=True)\n",
        "# print(diabetes_X,diabetes_y)\n",
        "#diabetes_X.shape = (442,10) --> ten dimensional vector\n",
        "reg2 = LinearRegression().fit(diabetes_X, diabetes_y)\n",
        "#reg2.coef_ with 10 values will coresponding to x1,x2...x10"
      ],
      "metadata": {
        "colab": {
          "base_uri": "https://localhost:8080/"
        },
        "id": "nl0cE9K6Dhji",
        "outputId": "002cfec0-d309-4706-9661-edf4a3cbe367"
      },
      "execution_count": 37,
      "outputs": [
        {
          "output_type": "stream",
          "name": "stdout",
          "text": [
            "[ -10.01219782 -239.81908937  519.83978679  324.39042769 -792.18416163\n",
            "  476.74583782  101.04457032  177.06417623  751.27932109   67.62538639]\n"
          ]
        }
      ]
    },
    {
      "cell_type": "code",
      "source": [
        "def predict_10dim(X):\n",
        "  result = 0\n",
        "  for i in range(len(reg2.coef_)):\n",
        "    result += reg2.coef_[i]*X[i]\n",
        "  return result + reg2.intercept_\n",
        "\n",
        "#predict point [1,2,3,4,5,6,7,8,9,10]\n",
        "print(predict_10dim([1,2,3,4,5,6,7,8,9,10]))"
      ],
      "metadata": {
        "colab": {
          "base_uri": "https://localhost:8080/"
        },
        "id": "esWLJW-PJIDW",
        "outputId": "b3379154-773b-4997-85db-fd7cb8f74032"
      },
      "execution_count": 39,
      "outputs": [
        {
          "output_type": "stream",
          "name": "stdout",
          "text": [
            "10980.71155334688\n"
          ]
        }
      ]
    },
    {
      "cell_type": "code",
      "source": [
        "from sklearn.linear_model import LinearRegression\n",
        "X = np.array([[1, 1], [1, 2], [2, 2], [2, 3]])\n",
        "y = np.dot(X, np.array([1, 2])) + 3\n",
        "reg = LinearRegression().fit(X, y)\n",
        "print(reg.score(X, y))\n",
        "print(reg.coef_)\n",
        "print(reg.intercept_)\n",
        "print(reg.predict(np.array([[3, 5]])))"
      ],
      "metadata": {
        "colab": {
          "base_uri": "https://localhost:8080/"
        },
        "id": "ZC0X5LHtLf9A",
        "outputId": "bc67f043-cfdc-47bd-88e8-d6f011db0919"
      },
      "execution_count": 41,
      "outputs": [
        {
          "output_type": "stream",
          "name": "stdout",
          "text": [
            "1.0\n",
            "[1. 2.]\n",
            "3.0000000000000018\n",
            "[16.]\n"
          ]
        }
      ]
    }
  ]
}