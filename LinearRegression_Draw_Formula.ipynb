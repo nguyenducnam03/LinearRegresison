{
  "nbformat": 4,
  "nbformat_minor": 0,
  "metadata": {
    "colab": {
      "name": "LinearRegression_Draw_Formula",
      "provenance": [],
      "collapsed_sections": [],
      "authorship_tag": "ABX9TyMpelam3Cd5UmIIAw2hMhhN",
      "include_colab_link": true
    },
    "kernelspec": {
      "name": "python3",
      "display_name": "Python 3"
    },
    "language_info": {
      "name": "python"
    }
  },
  "cells": [
    {
      "cell_type": "markdown",
      "metadata": {
        "id": "view-in-github",
        "colab_type": "text"
      },
      "source": [
        "<a href=\"https://colab.research.google.com/github/nguyenducnam03/LinearRegresison/blob/main/LinearRegression_Draw_Formula.ipynb\" target=\"_parent\"><img src=\"https://colab.research.google.com/assets/colab-badge.svg\" alt=\"Open In Colab\"/></a>"
      ]
    },
    {
      "cell_type": "code",
      "execution_count": 86,
      "metadata": {
        "id": "NxlrnTUFAmSl"
      },
      "outputs": [],
      "source": [
        "#import library\n",
        "import numpy as np\n",
        "import matplotlib\n",
        "import matplotlib.pyplot as plt"
      ]
    },
    {
      "cell_type": "code",
      "source": [
        "\"\"\"\n",
        "Important thing in here is the formular of this Linear Regression\n",
        "In first we need to find the line with Y= AX + B\n",
        "Our purpose to find the value of A,B to draw line (parabole will be later)\n",
        "Formular (I studied from Dung Lai Lap Trinh course):\n",
        "x = (((A^T).A)^-1).(A^T).b will return the coefficent and interception of the line ([[]])\n",
        "-> draw and predict that\n",
        "with A = [[x1 1],\n",
        "          [x2 1],\n",
        "          [x3 1]]\n",
        "    b =  [[y1],\n",
        "          [y2]]...\n",
        "\"\"\""
      ],
      "metadata": {
        "colab": {
          "base_uri": "https://localhost:8080/",
          "height": 70
        },
        "id": "SM45QISWPQEi",
        "outputId": "62775deb-89df-41b0-94dd-4f9fa6f1e1bb"
      },
      "execution_count": 87,
      "outputs": [
        {
          "output_type": "execute_result",
          "data": {
            "text/plain": [
              "'\\nImportant thing in here is the formular of this Linear Regression\\nIn first we need to find the line with Y= AX + B\\nOur purpose to find the value of A,B to draw line (parabole will be later)\\nFormular (I studied from Dung Lai Lap Trinh course):\\nx = (((A^T).A)^-1).(A^T).b will return the coefficent and interception of the line ([[]])\\n-> draw and predict that\\nwith A = [[x1 1],\\n          [x2 1],\\n          [x3 1]]\\n    b =  [[y1],\\n          [y2]]...\\n'"
            ],
            "application/vnd.google.colaboratory.intrinsic+json": {
              "type": "string"
            }
          },
          "metadata": {},
          "execution_count": 87
        }
      ]
    },
    {
      "cell_type": "code",
      "source": [
        ""
      ],
      "metadata": {
        "id": "AiXlgRB3BBDQ"
      },
      "execution_count": 87,
      "outputs": []
    },
    {
      "cell_type": "code",
      "source": [
        "#Now I will code again Linear Regression, use both matrix formula and skicit learn\n",
        "#data\n",
        "A = [2,5,7,9,11,16,19,23,22,29,29,35,37,40,46]\n",
        "b = [2,3,4,5,6,7,8,9,10,11,12,13,14,15,16]\n",
        "\n",
        "plt.plot(A,b,'ro')\n",
        "plt.show()\n",
        "\n",
        "#convert to numpy array [[]]\n",
        "A_coef = np.array([A]).T\n",
        "b_coef = np.array([b]).T\n",
        "\n",
        "#create ones array and concatenate it into A(explained above)\n",
        "ones_A = np.ones((A_coef.shape[0],1), dtype = np.int8)\n",
        "A_coef = np.concatenate((A_coef,ones_A), axis=1)\n",
        "\n",
        "# print(A)\n",
        "# print(b)"
      ],
      "metadata": {
        "colab": {
          "base_uri": "https://localhost:8080/",
          "height": 265
        },
        "id": "y0_ZFyy6QPk0",
        "outputId": "22535b2e-c803-426c-bb8c-4dc24ab682ae"
      },
      "execution_count": 88,
      "outputs": [
        {
          "output_type": "display_data",
          "data": {
            "text/plain": [
              "<Figure size 432x288 with 1 Axes>"
            ],
            "image/png": "[encoded data removed]"
          },
          "metadata": {
            "needs_background": "light"
          }
        }
      ]
    },
    {
      "cell_type": "code",
      "source": [
        "#Calculate with the formula above:\n",
        "results = np.linalg.inv(A_coef.transpose().dot(A_coef)).dot(A_coef.transpose().dot(b))\n",
        "#-> return a and b in y =ax + b\n",
        "#now plot it for visualization\n",
        "plt.plot(A,b,'ro',color='red')\n",
        "plt.title(\"Linear Regression\")\n",
        "plt.xlabel(\"X_test\")\n",
        "plt.ylabel(\"Y_test\")\n",
        "x_test_draw = np.linspace(0,50,10000)\n",
        "y_test_draw = results[0]*x_test_draw+results[1]\n",
        "\n",
        "#draw line\n",
        "plt.plot(x_test_draw,y_test_draw,color='green',linewidth=2)\n",
        "plt.legend(['point','y=ax+b'])\n",
        "plt.show()"
      ],
      "metadata": {
        "colab": {
          "base_uri": "https://localhost:8080/",
          "height": 296
        },
        "id": "Zn3JXATXRURm",
        "outputId": "f27c0ba8-2a05-45bb-c67f-5d2a48fa2d98"
      },
      "execution_count": 89,
      "outputs": [
        {
          "output_type": "display_data",
          "data": {
            "text/plain": [
              "<Figure size 432x288 with 1 Axes>"
            ],
            "image/png": "[encoded data removed]"
          },
          "metadata": {
            "needs_background": "light"
          }
        }
      ]
    },
    {
      "cell_type": "code",
      "source": [
        "#now test with draw parabole\n",
        "#new data with name A2,b2\n",
        "A2 = [2,5,7,9,11,16,19,23,22,29,29,35,37,40,46]\n",
        "b2 = [16,16,15,14,13,12,11,9,10,11,12,13,14,15,16]\n",
        "\n",
        "plt.plot(A2,b2,'ro')\n",
        "plt.show()"
      ],
      "metadata": {
        "colab": {
          "base_uri": "https://localhost:8080/",
          "height": 265
        },
        "id": "kVbILWypTEKj",
        "outputId": "2d2a5eb2-7630-47a9-896e-85943de0d263"
      },
      "execution_count": 90,
      "outputs": [
        {
          "output_type": "display_data",
          "data": {
            "text/plain": [
              "<Figure size 432x288 with 1 Axes>"
            ],
            "image/png": "[encoded data removed]"
          },
          "metadata": {
            "needs_background": "light"
          }
        }
      ]
    },
    {
      "cell_type": "code",
      "source": [
        "#It'll have similar formula with formula above\n",
        "#So we only need to declare some varible similarly with it\n",
        "\n",
        "#convert to numpy array [[]]\n",
        "A2_coef = np.array([A2]).T\n",
        "b2_coef = np.array([b2]).T\n",
        "\n",
        "#Here with need to create a form of A2_coef to parabole\n",
        "\"\"\"\n",
        "A2_coef = [[x1^2 x1 1],\n",
        "           [x2^2 x2 1]]\n",
        "\"\"\"\n",
        "\n",
        "#create ones array and concatenate it into A(explained above)\n",
        "ones_A2 = np.ones((A2_coef.shape[0],1), dtype = np.int8)\n",
        "A2_coef = np.concatenate((A2_coef**2,A2_coef,ones_A2), axis=1)"
      ],
      "metadata": {
        "id": "PGu5h9OZWBkt"
      },
      "execution_count": 91,
      "outputs": []
    },
    {
      "cell_type": "code",
      "source": [
        "#Calculate with the formula above:\n",
        "results2 = np.linalg.inv(A2_coef.transpose().dot(A2_coef)).dot(A2_coef.transpose().dot(b2))\n",
        "\n",
        "#-> return a and b in y =ax + b\n",
        "#now plot it for visualization\n",
        "plt.plot(A2,b2,'ro',color='red')\n",
        "plt.title(\"Linear Regression Parabole\")\n",
        "plt.xlabel(\"X_test\")\n",
        "plt.ylabel(\"Y_test\")\n",
        "\n",
        "print(results2)\n",
        "#But in here we have some thing different because parabol has 3 parameter a,b,c\n",
        "x_test_draw = np.linspace(0,50,10000)\n",
        "y_test_draw = x_test_draw**2*results2[0]+x_test_draw*results2[1]+results2[2]\n",
        "\n",
        "# #draw line\n",
        "plt.plot(x_test_draw,y_test_draw,color='green',linewidth=2)\n",
        "plt.legend(['point','y=ax^2+bx+c'])\n",
        "plt.show()"
      ],
      "metadata": {
        "colab": {
          "base_uri": "https://localhost:8080/",
          "height": 314
        },
        "id": "7kPIbcB-WaVr",
        "outputId": "c0f58124-e319-4c9c-9d61-bad95fbb7642"
      },
      "execution_count": 92,
      "outputs": [
        {
          "output_type": "stream",
          "name": "stdout",
          "text": [
            "[ 1.26652555e-02 -6.01997862e-01  1.80165290e+01]\n"
          ]
        },
        {
          "output_type": "display_data",
          "data": {
            "text/plain": [
              "<Figure size 432x288 with 1 Axes>"
            ],
            "image/png": "[encoded data removed]"
          },
          "metadata": {
            "needs_background": "light"
          }
        }
      ]
    },
    {
      "cell_type": "code",
      "source": [
        "\"\"\"\n",
        "So, now, with this graph, you can easily predict via lines or paraboles you can make with formular above\n",
        "It's very easy to understand (except the formula calculate results because using so much about matrix and geometry of space)\n",
        "Certainly you can expand it into graph with degree is 3, by add more of A matrix!!\n",
        "So, about predict, I don't code here because it only apply number into Ax^2 +Bx + C or Ax + b\n",
        "\"\"\""
      ],
      "metadata": {
        "colab": {
          "base_uri": "https://localhost:8080/",
          "height": 70
        },
        "id": "a91WYwxSXtFq",
        "outputId": "0ba681fc-d324-4be0-f396-9351daf9119a"
      },
      "execution_count": 93,
      "outputs": [
        {
          "output_type": "execute_result",
          "data": {
            "text/plain": [
              "\"\\nSo, now, with this graph, you can easily predict via lines or paraboles you can make with formular above\\nIt's very easy to understand (except the formula calculate results because using so much about matrix and geometry of space)\\nCertainly you can expand it into graph with degree is 3, by add more of A matrix!!\\nSo, about predict, I don't code here because it only apply number into Ax^2 +Bx + C or Ax + b\\n\""
            ],
            "application/vnd.google.colaboratory.intrinsic+json": {
              "type": "string"
            }
          },
          "metadata": {},
          "execution_count": 93
        }
      ]
    },
    {
      "cell_type": "code",
      "source": [
        ""
      ],
      "metadata": {
        "id": "Q8K2taBrYeT5"
      },
      "execution_count": null,
      "outputs": []
    }
  ]
}